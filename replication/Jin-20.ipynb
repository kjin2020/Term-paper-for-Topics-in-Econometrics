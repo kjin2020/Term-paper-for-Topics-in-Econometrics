{
 "cells": [
  {
   "cell_type": "code",
   "execution_count": 7,
   "id": "93b20a9a",
   "metadata": {},
   "outputs": [],
   "source": [
    "import pandas as pd\n",
    "import numpy as np\n",
    "import statsmodels.api as sm\n",
    "import statsmodels.formula.api as smf\n",
    "import patsy\n",
    "from patsy import dmatrices,NAAction\n",
    "from scipy import stats\n",
    "import warnings\n",
    "import matplotlib.pyplot as plt\n",
    "from tabulate import tabulate"
   ]
  },
  {
   "cell_type": "code",
   "execution_count": 8,
   "id": "77fb672e",
   "metadata": {},
   "outputs": [],
   "source": [
    "your_directory = ''+'/replication'"
   ]
  },
  {
   "cell_type": "code",
   "execution_count": 9,
   "id": "f4f77289",
   "metadata": {},
   "outputs": [],
   "source": [
    "warnings.simplefilter(action='ignore', category=FutureWarning)"
   ]
  },
  {
   "cell_type": "code",
   "execution_count": 10,
   "id": "22194fd9",
   "metadata": {},
   "outputs": [],
   "source": [
    "df = pd.read_stata(your_directory+'/combined.dta')"
   ]
  },
  {
   "cell_type": "code",
   "execution_count": 11,
   "id": "dc35c082",
   "metadata": {},
   "outputs": [],
   "source": [
    "df0 = pd.read_stata(your_directory+'/india_waters_cityyear.dta')"
   ]
  },
  {
   "cell_type": "code",
   "execution_count": 12,
   "id": "c0d0163d",
   "metadata": {},
   "outputs": [],
   "source": [
    "df3 = pd.read_stata(your_directory+'/im_air.dta')"
   ]
  },
  {
   "cell_type": "markdown",
   "id": "7b7261ab",
   "metadata": {},
   "source": [
    "### Data Summary"
   ]
  },
  {
   "cell_type": "code",
   "execution_count": 13,
   "id": "9e581312",
   "metadata": {},
   "outputs": [
    {
     "data": {
      "text/plain": [
       "(2940, 132)"
      ]
     },
     "execution_count": 13,
     "metadata": {},
     "output_type": "execute_result"
    }
   ],
   "source": [
    "df.shape"
   ]
  },
  {
   "cell_type": "code",
   "execution_count": 14,
   "id": "13a742db",
   "metadata": {},
   "outputs": [],
   "source": [
    "#df['year'].value_counts()"
   ]
  },
  {
   "cell_type": "code",
   "execution_count": 15,
   "id": "78a6e382",
   "metadata": {},
   "outputs": [
    {
     "data": {
      "text/plain": [
       "2007.0"
      ]
     },
     "execution_count": 15,
     "metadata": {},
     "output_type": "execute_result"
    }
   ],
   "source": [
    "df['year'].max()"
   ]
  },
  {
   "cell_type": "code",
   "execution_count": 16,
   "id": "e2a7c442",
   "metadata": {},
   "outputs": [
    {
     "data": {
      "text/plain": [
       "1987.0"
      ]
     },
     "execution_count": 16,
     "metadata": {},
     "output_type": "execute_result"
    }
   ],
   "source": [
    "df['year'].min()"
   ]
  },
  {
   "cell_type": "code",
   "execution_count": 17,
   "id": "2bca62b4",
   "metadata": {},
   "outputs": [],
   "source": [
    "#df['city'].value_counts()"
   ]
  },
  {
   "cell_type": "code",
   "execution_count": 18,
   "id": "b83c2ead",
   "metadata": {},
   "outputs": [
    {
     "data": {
      "text/plain": [
       "223.23355102539062"
      ]
     },
     "execution_count": 18,
     "metadata": {},
     "output_type": "execute_result"
    }
   ],
   "source": [
    " df['e_spm_mean'].mean()"
   ]
  },
  {
   "cell_type": "code",
   "execution_count": 19,
   "id": "a4a8e516",
   "metadata": {},
   "outputs": [
    {
     "data": {
      "text/plain": [
       "17.258581161499023"
      ]
     },
     "execution_count": 19,
     "metadata": {},
     "output_type": "execute_result"
    }
   ],
   "source": [
    " df['e_so2_mean'].mean()"
   ]
  },
  {
   "cell_type": "code",
   "execution_count": 20,
   "id": "ec5bd0ad",
   "metadata": {},
   "outputs": [
    {
     "data": {
      "text/plain": [
       "26.819961547851562"
      ]
     },
     "execution_count": 20,
     "metadata": {},
     "output_type": "execute_result"
    }
   ],
   "source": [
    " df['e_no2_mean'].mean()"
   ]
  },
  {
   "cell_type": "code",
   "execution_count": 21,
   "id": "fe5f0b93",
   "metadata": {},
   "outputs": [
    {
     "data": {
      "text/plain": [
       "838.4285888671875"
      ]
     },
     "execution_count": 21,
     "metadata": {},
     "output_type": "execute_result"
    }
   ],
   "source": [
    " df['e_spm_mean'].max()"
   ]
  },
  {
   "cell_type": "code",
   "execution_count": 22,
   "id": "db1668eb",
   "metadata": {},
   "outputs": [
    {
     "data": {
      "text/plain": [
       "9.0"
      ]
     },
     "execution_count": 22,
     "metadata": {},
     "output_type": "execute_result"
    }
   ],
   "source": [
    " df['e_spm_mean'].min()"
   ]
  },
  {
   "cell_type": "code",
   "execution_count": 23,
   "id": "8b2d7928",
   "metadata": {},
   "outputs": [
    {
     "data": {
      "text/plain": [
       "17"
      ]
     },
     "execution_count": 23,
     "metadata": {},
     "output_type": "execute_result"
    }
   ],
   "source": [
    "len(df[df['actionplan_sc'] == 1]['city'].value_counts())"
   ]
  },
  {
   "cell_type": "code",
   "execution_count": 24,
   "id": "0ed57e7d",
   "metadata": {},
   "outputs": [
    {
     "data": {
      "text/plain": [
       "31"
      ]
     },
     "execution_count": 24,
     "metadata": {},
     "output_type": "execute_result"
    }
   ],
   "source": [
    "len(df[df['catconverter'] == 1]['city'].value_counts())"
   ]
  },
  {
   "cell_type": "code",
   "execution_count": 25,
   "id": "2149956b",
   "metadata": {},
   "outputs": [],
   "source": [
    "y_spm_mean = df.groupby('year')['e_spm_mean'].mean()\n",
    "y_so2_mean = df.groupby('year')['e_so2_mean'].mean()\n",
    "y_no2_mean = df.groupby('year')['e_no2_mean'].mean()"
   ]
  },
  {
   "cell_type": "code",
   "execution_count": 26,
   "id": "64d5583a",
   "metadata": {},
   "outputs": [
    {
     "data": {
      "text/plain": [
       "[<matplotlib.lines.Line2D at 0x7fa66d6e7820>]"
      ]
     },
     "execution_count": 26,
     "metadata": {},
     "output_type": "execute_result"
    },
    {
     "data": {
      "image/png": "[encoded data removed]",
      "text/plain": [
       "<Figure size 640x480 with 1 Axes>"
      ]
     },
     "metadata": {},
     "output_type": "display_data"
    }
   ],
   "source": [
    "plt.plot(y_spm_mean)"
   ]
  },
  {
   "cell_type": "code",
   "execution_count": 27,
   "id": "ded62063",
   "metadata": {},
   "outputs": [
    {
     "data": {
      "text/plain": [
       "[<matplotlib.lines.Line2D at 0x7fa66e825c70>]"
      ]
     },
     "execution_count": 27,
     "metadata": {},
     "output_type": "execute_result"
    },
    {
     "data": {
      "image/png": "[encoded data removed]",
      "text/plain": [
       "<Figure size 640x480 with 1 Axes>"
      ]
     },
     "metadata": {},
     "output_type": "display_data"
    }
   ],
   "source": [
    "plt.plot(y_so2_mean)"
   ]
  },
  {
   "cell_type": "code",
   "execution_count": 28,
   "id": "9fca6a0c",
   "metadata": {},
   "outputs": [
    {
     "data": {
      "text/plain": [
       "[<matplotlib.lines.Line2D at 0x7fa66642a460>]"
      ]
     },
     "execution_count": 28,
     "metadata": {},
     "output_type": "execute_result"
    },
    {
     "data": {
      "image/png": "[encoded data removed]",
      "text/plain": [
       "<Figure size 640x480 with 1 Axes>"
      ]
     },
     "metadata": {},
     "output_type": "display_data"
    }
   ],
   "source": [
    "plt.plot(y_no2_mean)"
   ]
  },
  {
   "cell_type": "code",
   "execution_count": 29,
   "id": "6c0916d9",
   "metadata": {},
   "outputs": [
    {
     "data": {
      "text/plain": [
       "(6163, 124)"
      ]
     },
     "execution_count": 29,
     "metadata": {},
     "output_type": "execute_result"
    }
   ],
   "source": [
    "df0.shape"
   ]
  },
  {
   "cell_type": "code",
   "execution_count": 30,
   "id": "7cef4fe7",
   "metadata": {},
   "outputs": [],
   "source": [
    "#df0['year'].value_counts()"
   ]
  },
  {
   "cell_type": "code",
   "execution_count": 31,
   "id": "9fff66c0",
   "metadata": {},
   "outputs": [
    {
     "data": {
      "text/plain": [
       "2007.0"
      ]
     },
     "execution_count": 31,
     "metadata": {},
     "output_type": "execute_result"
    }
   ],
   "source": [
    "df0['year'].max()"
   ]
  },
  {
   "cell_type": "code",
   "execution_count": 32,
   "id": "f4f9d19e",
   "metadata": {},
   "outputs": [
    {
     "data": {
      "text/plain": [
       "1986.0"
      ]
     },
     "execution_count": 32,
     "metadata": {},
     "output_type": "execute_result"
    }
   ],
   "source": [
    "df0['year'].min()"
   ]
  },
  {
   "cell_type": "code",
   "execution_count": 33,
   "id": "325b2c9c",
   "metadata": {},
   "outputs": [],
   "source": [
    "#df0['city'].value_counts()"
   ]
  },
  {
   "cell_type": "code",
   "execution_count": 34,
   "id": "c9c9416a",
   "metadata": {},
   "outputs": [],
   "source": [
    "#df0['river'].value_counts()"
   ]
  },
  {
   "cell_type": "code",
   "execution_count": 35,
   "id": "6e7f6e21",
   "metadata": {},
   "outputs": [
    {
     "data": {
      "text/plain": [
       "6163"
      ]
     },
     "execution_count": 35,
     "metadata": {},
     "output_type": "execute_result"
    }
   ],
   "source": [
    "sum(df0['city'].value_counts())"
   ]
  },
  {
   "cell_type": "code",
   "execution_count": 36,
   "id": "82c25344",
   "metadata": {},
   "outputs": [
    {
     "data": {
      "text/plain": [
       "4.155832261362016"
      ]
     },
     "execution_count": 36,
     "metadata": {},
     "output_type": "execute_result"
    }
   ],
   "source": [
    "df0['bod'].mean()"
   ]
  },
  {
   "cell_type": "code",
   "execution_count": 37,
   "id": "e76a4753",
   "metadata": {},
   "outputs": [
    {
     "data": {
      "text/plain": [
       "7.133985104207769"
      ]
     },
     "execution_count": 37,
     "metadata": {},
     "output_type": "execute_result"
    }
   ],
   "source": [
    "df0['do'].mean()"
   ]
  },
  {
   "cell_type": "code",
   "execution_count": 38,
   "id": "5b2d3ccb",
   "metadata": {},
   "outputs": [
    {
     "data": {
      "text/plain": [
       "5.425857067108154"
      ]
     },
     "execution_count": 38,
     "metadata": {},
     "output_type": "execute_result"
    }
   ],
   "source": [
    "df0['lnfcoli'].mean()"
   ]
  },
  {
   "cell_type": "code",
   "execution_count": 39,
   "id": "581f336b",
   "metadata": {},
   "outputs": [],
   "source": [
    "#for i in ['yap1', 'gap1', 'gap2', 'nrcp', 'dap', 'gomtiap1']:\n",
    "#    print(len(df0[df0[i] == 1]['city'].value_counts()))"
   ]
  },
  {
   "cell_type": "code",
   "execution_count": 40,
   "id": "81c1e757",
   "metadata": {},
   "outputs": [],
   "source": [
    "bod     = df0.groupby('year')['bod'].mean()\n",
    "do      = df0.groupby('year')['do'].mean()\n",
    "lnfcoli = df0.groupby('year')['lnfcoli'].mean()"
   ]
  },
  {
   "cell_type": "code",
   "execution_count": 41,
   "id": "d2b9563e",
   "metadata": {},
   "outputs": [
    {
     "data": {
      "text/plain": [
       "[<matplotlib.lines.Line2D at 0x7fa66d7174f0>]"
      ]
     },
     "execution_count": 41,
     "metadata": {},
     "output_type": "execute_result"
    },
    {
     "data": {
      "image/png": "[encoded data removed]",
      "text/plain": [
       "<Figure size 640x480 with 1 Axes>"
      ]
     },
     "metadata": {},
     "output_type": "display_data"
    }
   ],
   "source": [
    "plt.plot(bod)"
   ]
  },
  {
   "cell_type": "code",
   "execution_count": 42,
   "id": "91d73c7e",
   "metadata": {},
   "outputs": [
    {
     "data": {
      "text/plain": [
       "[<matplotlib.lines.Line2D at 0x7fa666af3e20>]"
      ]
     },
     "execution_count": 42,
     "metadata": {},
     "output_type": "execute_result"
    },
    {
     "data": {
      "image/png": "[encoded data removed]",
      "text/plain": [
       "<Figure size 640x480 with 1 Axes>"
      ]
     },
     "metadata": {},
     "output_type": "display_data"
    }
   ],
   "source": [
    "plt.plot(do)"
   ]
  },
  {
   "cell_type": "code",
   "execution_count": 43,
   "id": "349b1ce0",
   "metadata": {},
   "outputs": [
    {
     "data": {
      "text/plain": [
       "[<matplotlib.lines.Line2D at 0x7fa66da68820>]"
      ]
     },
     "execution_count": 43,
     "metadata": {},
     "output_type": "execute_result"
    },
    {
     "data": {
      "image/png": "[encoded data removed]",
      "text/plain": [
       "<Figure size 640x480 with 1 Axes>"
      ]
     },
     "metadata": {},
     "output_type": "display_data"
    }
   ],
   "source": [
    "plt.plot(lnfcoli)"
   ]
  },
  {
   "cell_type": "code",
   "execution_count": 44,
   "id": "51d67596",
   "metadata": {},
   "outputs": [
    {
     "data": {
      "text/plain": [
       "(2331, 30)"
      ]
     },
     "execution_count": 44,
     "metadata": {},
     "output_type": "execute_result"
    }
   ],
   "source": [
    "df3.shape"
   ]
  },
  {
   "cell_type": "code",
   "execution_count": 45,
   "id": "d604e6d4",
   "metadata": {},
   "outputs": [],
   "source": [
    "#df3['city'].value_counts()"
   ]
  },
  {
   "cell_type": "code",
   "execution_count": 46,
   "id": "f280d30e",
   "metadata": {},
   "outputs": [],
   "source": [
    "#df3['year'].value_counts()"
   ]
  },
  {
   "cell_type": "code",
   "execution_count": 47,
   "id": "dcf35d09",
   "metadata": {},
   "outputs": [
    {
     "data": {
      "text/plain": [
       "1987.0"
      ]
     },
     "execution_count": 47,
     "metadata": {},
     "output_type": "execute_result"
    }
   ],
   "source": [
    "df3['year'].min()"
   ]
  },
  {
   "cell_type": "code",
   "execution_count": 48,
   "id": "2d641887",
   "metadata": {},
   "outputs": [
    {
     "data": {
      "text/plain": [
       "2007.0"
      ]
     },
     "execution_count": 48,
     "metadata": {},
     "output_type": "execute_result"
    }
   ],
   "source": [
    "df3['year'].max()"
   ]
  },
  {
   "cell_type": "code",
   "execution_count": 49,
   "id": "37303a4d",
   "metadata": {},
   "outputs": [],
   "source": [
    "c_IM     = df3.groupby('year')['c_IM'].mean()"
   ]
  },
  {
   "cell_type": "code",
   "execution_count": 50,
   "id": "c4c99234",
   "metadata": {},
   "outputs": [
    {
     "data": {
      "text/plain": [
       "23.462129592895508"
      ]
     },
     "execution_count": 50,
     "metadata": {},
     "output_type": "execute_result"
    }
   ],
   "source": [
    "df3['c_IM'].mean()"
   ]
  },
  {
   "cell_type": "code",
   "execution_count": 51,
   "id": "b1cff343",
   "metadata": {},
   "outputs": [
    {
     "data": {
      "text/plain": [
       "[<matplotlib.lines.Line2D at 0x7fa66d8345e0>]"
      ]
     },
     "execution_count": 51,
     "metadata": {},
     "output_type": "execute_result"
    },
    {
     "data": {
      "image/png": "[encoded data removed]",
      "text/plain": [
       "<Figure size 640x480 with 1 Axes>"
      ]
     },
     "metadata": {},
     "output_type": "display_data"
    }
   ],
   "source": [
    "plt.plot(c_IM)"
   ]
  },
  {
   "cell_type": "markdown",
   "id": "12c679bc",
   "metadata": {},
   "source": [
    "### 2nd Step Model\n",
    "#### One should first run the 1st Step Model"
   ]
  },
  {
   "cell_type": "code",
   "execution_count": 52,
   "id": "90b188d2",
   "metadata": {},
   "outputs": [],
   "source": [
    "# A vaild formula should be in this form:\n",
    "formula = 'taub ~ high + catconv + catconv_high + tauCAT + tauCAT_high + catconv_trend + catconv_high_trend'"
   ]
  },
  {
   "cell_type": "code",
   "execution_count": 53,
   "id": "47c1055b",
   "metadata": {},
   "outputs": [],
   "source": [
    "# For Equ 2A\n",
    "#def get_params_cov(result,variables,variable_name):\n",
    "#    b   = result.params\n",
    "#    x1  = result.params[variables.index(variable_name)+1]\n",
    "#    res = result.get_robustcov_results()\n",
    "#    se  = res.bse\n",
    "#    p   = res.pvalues\n",
    "#    return b, se, p, x1"
   ]
  },
  {
   "cell_type": "markdown",
   "id": "9d49fee7",
   "metadata": {},
   "source": [
    "This function is used to estimate the Equ 2C in the origional paper"
   ]
  },
  {
   "cell_type": "code",
   "execution_count": 54,
   "id": "a008c4ee",
   "metadata": {},
   "outputs": [],
   "source": [
    "def get_params_cov(result,variables,variable_name):\n",
    "    b   = result.params\n",
    "    x1  = result.params[variables.index(variable_name)+1]\n",
    "    x2  = result.params[variables.index(variable_name+\"_trend\")+1]\n",
    "    res = result.get_robustcov_results()\n",
    "    se  = res.bse\n",
    "    p   = res.pvalues\n",
    "    cov1= res.cov_params()[variables.index(variable_name)+1,variables.index(variable_name)+1]\n",
    "    cov2= res.cov_params()[variables.index(variable_name+\"_trend\")+1,variables.index(variable_name+\"_trend\")+1]\n",
    "    cov3= res.cov_params()[variables.index(variable_name)+1,variables.index(variable_name+\"_trend\")+1]\n",
    "    return b, se, p, x1, x2, cov1, cov2, cov3\n",
    "\n",
    "def df11(polluants,variables,betas,se,p_values,table_name):\n",
    "    df = pd.DataFrame(columns=['Pollutant', 'Variable','β (Beta)', 'Robust-standard error', 'p-value'])\n",
    "    for i in range(len(polluants)):\n",
    "        for j in range(len(betas[i])):\n",
    "            df = df.append({'Pollutant': polluants[i], 'Variable':variables[j],'β (Beta)': round(betas[i][j],5), 'Robust-standard error': round(se[i][j],5), 'p-value': round(p_values[i][j],5)}, ignore_index=True)\n",
    "    print(tabulate(df,df.columns,showindex=False, tablefmt=\"rst\"))\n",
    "    df.to_csv(your_directory+f'/{table_name}.csv')\n",
    "\n",
    "def stage2(obj,formula,polluants,typ,r,y_effect,table_name):\n",
    "    temp = {}\n",
    "    betas = []\n",
    "    std_err= []\n",
    "    p_values= []\n",
    "    endog    = formula.split(\" ~ \")[0]\n",
    "    variables = formula.split(\" ~ \")[1].split(\" + \")\n",
    "    polluant_s= [obj['params'][pollutant][typ] for pollutant in polluants]\n",
    "    window    = len(polluant_s[0])\n",
    "    temp['tau'+typ] = np.array([i for i in np.arange(r-window/2+1,r+1) for _ in range(2)]) if 'catconv_high' in variables else np.arange(r-window+1,r+1)\n",
    "    for var in variables:\n",
    "        if 'trend' not in var and 'high' not in var and 'tau' not in var:\n",
    "            v         = var\n",
    "            temp[v] = temp['tau'+typ] >=0\n",
    "            temp[v+'_trend'] = temp['tau'+typ] * temp[v]\n",
    "            temp[v+'_trend'] = np.where(temp['tau'+typ]>=0, temp[v+'_trend']+1, temp[v+'_trend'])\n",
    "    temp[v]         = np.array([int(i) for i in temp[v]])\n",
    "    temp['high']    = [1,0] * int(window/2) if 'catconv_high' in variables else [1,0] * window\n",
    "    if v + '_high' in variables:\n",
    "        temp['tau'+typ+'_high']    = temp['tau'+typ] * temp['high']\n",
    "        temp[v + '_high']       = temp[v] * temp['high']\n",
    "        temp[v + '_high_trend'] = temp[v] * temp['high'] * temp['tau' + typ]\n",
    "        temp[v + '_high_trend']  = np.where(temp['tau'+typ]>=0,temp[v + '_high_trend']+1,temp[v + '_high_trend'])\n",
    "    for polluant in np.arange(len(polluants)):\n",
    "        x = temp[v]\n",
    "        temp[f'{endog}'] = np.array(obj['params'][polluants[polluant]][typ])\n",
    "        weights= list(1/np.array(obj['se'][polluants[polluant]][typ]))\n",
    "        for var in [k for k in variables if k != v]:\n",
    "            x  = np.column_stack((x, temp[f'{var}']))\n",
    "        X      = sm.add_constant(x)\n",
    "        y      = obj['params'][polluants[polluant]][typ]\n",
    "        #The second steop estimation. \n",
    "        model  = sm.WLS(y, X, weights=weights)\n",
    "        result = model.fit(cov_type='HC3')\n",
    "        if v+'_high' in variables:\n",
    "            b, t, p, x1, x2, cov1, cov2, cov3 = get_params_cov(result,variables,\"catconv_high\")\n",
    "        else:\n",
    "            b, t, p, x1, x2, cov1, cov2, cov3 = get_params_cov(result,variables,v)\n",
    "#        b, t, p, x1 = get_params_cov(result,variables,v)\n",
    "        parmas_5y = x1 + y_effect * x2\n",
    "        se_5y     = np.sqrt(cov1 + y_effect ** 2 * cov2 + 2 * y_effect * cov3)\n",
    "        t_stat    = parmas_5y / se_5y\n",
    "        df      = result.df_resid\n",
    "        p_value = 2 * (1 - stats.t.cdf(np.abs(t_stat), df))\n",
    "        betas.append(list(b[1:])+[parmas_5y])\n",
    "        std_err.append(list(t[1:])+[t_stat])\n",
    "        p_values.append(list(p[1:])+[p_value])\n",
    "    variables+=['5-year effect']\n",
    "    \n",
    "    return df11(polluants,variables,betas,std_err,p_values,table_name)\n"
   ]
  },
  {
   "cell_type": "markdown",
   "id": "340a44f0",
   "metadata": {},
   "source": [
    "### 2nd Step Estimates"
   ]
  },
  {
   "cell_type": "markdown",
   "id": "fd9e0acf",
   "metadata": {},
   "source": [
    "Variables Description: <br>\n",
    "For Eqn 2C in the original paper: $\\hat{\\sigma}_\\tau=\\pi_{0}+\\pi_{1}(Policy)_\\tau+\\pi_{2}\\tau+\\pi_{3}(1(Policy)_\\tau \\times \\tau)+\\epsilon_\\tau$,<br>\n",
    "We have,<br>\n",
    "SCAP / CAT / NRCP: $1(Policy)_\\tau$ <br>\n",
    "tauSC / tauCAT / tau: $\\tau$ <br>\n",
    "scap_trend / catconv_trend:  $(1(Policy)_\\tau \\times \\tau)$\n",
    "\n",
    "Function Description: <br>\n",
    "\n",
    "stage2(1,2,3,4,5,6,7) <br>\n",
    "\n",
    "1: The 1st step estimation <br>\n",
    "2: A formula <br>\n",
    "3: Types of the pollutant(s) <br>\n",
    "4: Number of the policy <br>\n",
    "5: Left window (Selectd years of post-treatment) <br>\n",
    "6: Number of years treatment effect (We use 5 years here) <br>\n",
    "7: Name of the output <br>"
   ]
  },
  {
   "cell_type": "markdown",
   "id": "2229aa74",
   "metadata": {},
   "source": [
    "#### Air Pollution\n",
    "##### SCAP"
   ]
  },
  {
   "cell_type": "code",
   "execution_count": 64,
   "id": "0fabcd8a",
   "metadata": {},
   "outputs": [
    {
     "name": "stdout",
     "output_type": "stream",
     "text": [
      "===========  =============  ==========  =======================  =========\n",
      "Pollutant    Variable         β (Beta)    Robust-standard error    p-value\n",
      "===========  =============  ==========  =======================  =========\n",
      "spm          scap              7.06179                 11.606      0.54288\n",
      "spm          tauSC            -3.58315                  3.13774    0.25347\n",
      "spm          scap_trend       -1.30876                  5.7577     0.82019\n",
      "spm          5-year effect     0.51799                  0.01974    0.9848\n",
      "so2          scap             -1.45907                  0.41569    0.00045\n",
      "so2          tauSC             0.19451                  0.07703    0.01157\n",
      "so2          scap_trend       -0.04524                  0.22604    0.84137\n",
      "so2          5-year effect    -1.68527                 -1.8519     0.10647\n",
      "no2          scap             -1.63428                  2.4798     0.50987\n",
      "no2          tauSC             1.3969                   0.45983    0.00238\n",
      "no2          scap_trend       -1.6512                   0.70053    0.01842\n",
      "no2          5-year effect    -9.89026                 -2.14027    0.06961\n",
      "===========  =============  ==========  =======================  =========\n"
     ]
    }
   ],
   "source": [
    "formula = 'taub ~ scap + tauSC + scap_trend'\n",
    "stage2(results,formula,['spm','so2','no2'],'SC',3,5,'table10a')"
   ]
  },
  {
   "cell_type": "markdown",
   "id": "6bc5eb1b",
   "metadata": {},
   "source": [
    "##### CAT"
   ]
  },
  {
   "cell_type": "code",
   "execution_count": 65,
   "id": "7432bc79",
   "metadata": {
    "scrolled": true
   },
   "outputs": [
    {
     "name": "stdout",
     "output_type": "stream",
     "text": [
      "===========  =============  ==========  =======================  =========\n",
      "Pollutant    Variable         β (Beta)    Robust-standard error    p-value\n",
      "===========  =============  ==========  =======================  =========\n",
      "spm          catconv           6.78839                 11.2509     0.54627\n",
      "spm          tauCAT            7.70971                  2.38803    0.00124\n",
      "spm          catconv_trend   -10.9929                   2.78265    8e-05\n",
      "spm          5-year effect   -48.1763                  -3.03472    0.00958\n",
      "so2          catconv          -0.59419                  1.45225    0.68243\n",
      "so2          tauCAT            2.00151                  0.27182    0\n",
      "so2          catconv_trend    -2.53759                  0.32573    0\n",
      "so2          5-year effect   -13.2821                  -6.92114    1e-05\n",
      "no2          catconv           3.05015                  1.76017    0.08312\n",
      "no2          tauCAT            0.8816                   0.42015    0.03588\n",
      "no2          catconv_trend    -1.52059                  0.44532    0.00064\n",
      "no2          5-year effect    -4.55279                 -1.34747    0.20084\n",
      "===========  =============  ==========  =======================  =========\n"
     ]
    }
   ],
   "source": [
    "formula = 'taub ~ catconv + tauCAT + catconv_trend'\n",
    "stage2(results,formula,['spm','so2','no2'],'CAT',9,5,'table10b')"
   ]
  },
  {
   "cell_type": "markdown",
   "id": "e9ed5a46",
   "metadata": {},
   "source": [
    "#### Water pollution"
   ]
  },
  {
   "cell_type": "code",
   "execution_count": 66,
   "id": "655a863a",
   "metadata": {},
   "outputs": [
    {
     "name": "stdout",
     "output_type": "stream",
     "text": [
      "===========  =============  ==========  =======================  =========\n",
      "Pollutant    Variable         β (Beta)    Robust-standard error    p-value\n",
      "===========  =============  ==========  =======================  =========\n",
      "bod          nrcp              1.04747                  1.25047    0.40222\n",
      "bod          tau              -0.88324                  0.39238    0.02439\n",
      "bod          nrcp_trend        0.96271                  0.41282    0.0197\n",
      "bod          5-year effect     5.86103                  2.19905    0.04518\n",
      "do           nrcp              0.11168                  0.14227    0.43245\n",
      "do           tau               0.09674                  0.03186    0.00239\n",
      "do           nrcp_trend       -0.14882                  0.03389    1e-05\n",
      "do           5-year effect    -0.63244                 -2.24523    0.04142\n",
      "lnfcoli      nrcp              0.17714                  0.50248    0.72444\n",
      "lnfcoli      tau              -0.09857                  0.0869     0.25665\n",
      "lnfcoli      nrcp_trend        0.12243                  0.09435    0.19441\n",
      "lnfcoli      5-year effect     0.78931                  0.94804    0.35919\n",
      "===========  =============  ==========  =======================  =========\n"
     ]
    }
   ],
   "source": [
    "formula = 'taub ~ nrcp + tau + nrcp_trend'\n",
    "stage2(results_2,formula,['bod','do','lnfcoli'],'',10,5,'table3finalb')"
   ]
  },
  {
   "cell_type": "markdown",
   "id": "2490d803",
   "metadata": {},
   "source": [
    "#### Structural Break Test Result"
   ]
  },
  {
   "cell_type": "code",
   "execution_count": 67,
   "id": "8642793e",
   "metadata": {},
   "outputs": [
    {
     "name": "stdout",
     "output_type": "stream",
     "text": [
      "===========  ===  =======  =========\n",
      "Pollutant      т        F    p-value\n",
      "===========  ===  =======  =========\n",
      "spm            2  4.98934    0.0437\n",
      "so2           -1  4.22056    0.06061\n",
      "no2           -2  2.57683    0.13245\n",
      "bod           -2  2.54411    0.13303\n",
      "do            -2  3.95812    0.06655\n",
      "lnfcoli       -2  6.2397     0.02557\n",
      "===========  ===  =======  =========\n"
     ]
    }
   ],
   "source": [
    "print(tabulate(df1000,df1000.columns,showindex=False, tablefmt=\"rst\"))\n",
    "df1000.to_csv(your_directory+'sbt_mor.csv')"
   ]
  },
  {
   "cell_type": "markdown",
   "id": "b5995599",
   "metadata": {},
   "source": [
    "#### Infant Mortality"
   ]
  },
  {
   "cell_type": "code",
   "execution_count": 68,
   "id": "10324cd8",
   "metadata": {},
   "outputs": [
    {
     "name": "stdout",
     "output_type": "stream",
     "text": [
      "===========  =============  ==========  =======================  =========\n",
      "Pollutant    Variable         β (Beta)    Robust-standard error    p-value\n",
      "===========  =============  ==========  =======================  =========\n",
      "IM           catconv           3.56181                  1.37325    0.00949\n",
      "IM           tauCAT           -0.19602                  0.11594    0.0909\n",
      "IM           catconv_trend    -0.95955                  0.34345    0.00521\n",
      "IM           5-year effect    -1.23595                 -0.88393    0.3941\n",
      "===========  =============  ==========  =======================  =========\n"
     ]
    }
   ],
   "source": [
    "formula = 'IMR ~ catconv + tauCAT + catconv_trend'\n",
    "stage2(results_4,formula,['IM'],'CAT',5,5,'table_6_mor')"
   ]
  },
  {
   "cell_type": "markdown",
   "id": "4f62962f",
   "metadata": {},
   "source": [
    "#### Difference in Catalytic Converter Five-year Treatment Effect between Cities above and below the Median in Proxies for Demand for Clean Air"
   ]
  },
  {
   "cell_type": "code",
   "execution_count": 69,
   "id": "384e822e",
   "metadata": {},
   "outputs": [
    {
     "name": "stdout",
     "output_type": "stream",
     "text": [
      "===========  ==================  ==========  =======================  =========\n",
      "Pollutant    Variable              β (Beta)    Robust-standard error    p-value\n",
      "===========  ==================  ==========  =======================  =========\n",
      "spm          high                  -7.70525                 20.8333     0.71149\n",
      "spm          catconv              -47.8899                  12.3287     0.0001\n",
      "spm          catconv_high          23.3507                  23.7142     0.32479\n",
      "spm          tauCAT                 8.06658                  3.39056    0.01735\n",
      "spm          tauCAT_high           -0.8636                   4.103      0.83329\n",
      "spm          catconv_trend        -10.4808                   4.51715    0.02033\n",
      "spm          catconv_high_trend    -1.03942                  5.34095    0.8457\n",
      "spm          5-year effect         18.1536                   0.53955    0.5941\n",
      "so2          high                  -0.89088                  3.40456    0.79357\n",
      "so2          catconv                0.25726                  3.32558    0.93834\n",
      "so2          catconv_high           0.18116                  3.98739    0.96376\n",
      "so2          tauCAT                 1.68688                  0.54011    0.00179\n",
      "so2          tauCAT_high            0.50703                  0.70184    0.47004\n",
      "so2          catconv_trend         -1.97591                  0.57899    0.00064\n",
      "so2          catconv_high_trend    -0.99471                  0.80694    0.21769\n",
      "so2          5-year effect         -4.79239                 -0.71917    0.47845\n",
      "no2          high                   3.83504                  3.13693    0.2215\n",
      "no2          catconv                1.10717                  3.41658    0.74589\n",
      "no2          catconv_high           6.41985                  4.48594    0.1524\n",
      "no2          tauCAT                 0.53022                  0.35904    0.13974\n",
      "no2          tauCAT_high            0.17316                  0.74871    0.8171\n",
      "no2          catconv_trend         -0.64103                  0.54275    0.23757\n",
      "no2          catconv_high_trend    -2.61247                  1.01793    0.01027\n",
      "no2          5-year effect         -6.64252                 -0.93863    0.35656\n",
      "===========  ==================  ==========  =======================  =========\n"
     ]
    }
   ],
   "source": [
    "formula = 'taub ~ high + catconv + catconv_high + tauCAT + tauCAT_high + catconv_trend + catconv_high_trend'\n",
    "stage2(results_5,formula,['spm','so2','no2'],'CAT',9,5,'table_7_mor')"
   ]
  },
  {
   "cell_type": "code",
   "execution_count": 70,
   "id": "57a899d6",
   "metadata": {},
   "outputs": [
    {
     "name": "stdout",
     "output_type": "stream",
     "text": [
      "===========  ==================  ==========  =======================  =========\n",
      "Pollutant    Variable              β (Beta)    Robust-standard error    p-value\n",
      "===========  ==================  ==========  =======================  =========\n",
      "spm          high                  26.9105                  20.905      0.198\n",
      "spm          catconv               34.5474                  10.7895     0.00136\n",
      "spm          catconv_high         -25.6593                  23.5943     0.27681\n",
      "spm          tauCAT                 3.46719                  2.54291    0.17273\n",
      "spm          tauCAT_high            3.58061                  3.44257    0.29829\n",
      "spm          catconv_trend         -6.18509                  4.17626    0.1386\n",
      "spm          catconv_high_trend    -3.49949                  4.96417    0.48084\n",
      "spm          5-year effect        -43.1567                  -1.47652    0.15182\n",
      "so2          high                  11.9953                   3.486      0.00058\n",
      "so2          catconv               21.6017                   1.99965    0\n",
      "so2          catconv_high         -14.4719                   3.82548    0.00015\n",
      "so2          tauCAT                -0.27738                  0.35144    0.42996\n",
      "so2          tauCAT_high            2.72644                  0.52176    0\n",
      "so2          catconv_trend          0.35016                  0.60484    0.56264\n",
      "so2          catconv_high_trend    -3.98141                  0.74098    0\n",
      "so2          5-year effect        -34.379                   -7.52144    0\n",
      "no2          high                   4.28232                  3.27729    0.19133\n",
      "no2          catconv                6.11281                  3.45026    0.07645\n",
      "no2          catconv_high          -1.96279                  3.81141    0.60657\n",
      "no2          tauCAT                -0.16653                  0.65804    0.80022\n",
      "no2          tauCAT_high            1.26928                  0.76449    0.09685\n",
      "no2          catconv_trend         -0.69019                  0.69886    0.32335\n",
      "no2          catconv_high_trend    -0.84471                  0.81846    0.30204\n",
      "no2          5-year effect         -6.18637                 -0.87418    0.39002\n",
      "===========  ==================  ==========  =======================  =========\n"
     ]
    }
   ],
   "source": [
    "formula = 'taub ~ high + catconv + catconv_high + tauCAT + tauCAT_high + catconv_trend + catconv_high_trend'\n",
    "stage2(results_6,formula,['spm','so2','no2'],'CAT',9,5,'table7_a_mor')"
   ]
  },
  {
   "cell_type": "code",
   "execution_count": 71,
   "id": "d1372684",
   "metadata": {},
   "outputs": [
    {
     "name": "stdout",
     "output_type": "stream",
     "text": [
      "===========  ==================  ==========  =======================  =========\n",
      "Pollutant    Variable              β (Beta)    Robust-standard error    p-value\n",
      "===========  ==================  ==========  =======================  =========\n",
      "spm          high                   6.89449                 15.2675     0.65157\n",
      "spm          catconv              -17.7246                  13.4253     0.18675\n",
      "spm          catconv_high         -16.1164                  22.1884     0.46763\n",
      "spm          tauCAT                 2.70699                  1.94754    0.16454\n",
      "spm          tauCAT_high            8.59352                  4.16904    0.03928\n",
      "spm          catconv_trend         -6.73742                  2.96284    0.02297\n",
      "spm          catconv_high_trend    -4.60364                  5.15693    0.37201\n",
      "spm          5-year effect        -39.1346                  -1.16224    0.2557\n",
      "so2          high                  -0.48606                  2.36204    0.83696\n",
      "so2          catconv               -5.7955                   2.2836     0.01115\n",
      "so2          catconv_high           4.40145                  3.52158    0.21135\n",
      "so2          tauCAT                 1.09323                  0.33181    0.00099\n",
      "so2          tauCAT_high            0.45595                  0.47903    0.3412\n",
      "so2          catconv_trend         -2.03639                  0.51285    7e-05\n",
      "so2          catconv_high_trend     0.20467                  0.67057    0.7602\n",
      "so2          5-year effect          5.42478                  1.18103    0.24828\n",
      "no2          high                   2.67234                  2.1831     0.22091\n",
      "no2          catconv               -1.2693                   3.60554    0.72481\n",
      "no2          catconv_high          -3.11831                  4.15973    0.45347\n",
      "no2          tauCAT                 0.21926                  0.66027    0.73983\n",
      "no2          tauCAT_high           -0.00672                  0.83534    0.99359\n",
      "no2          catconv_trend         -0.96459                  0.7448     0.19529\n",
      "no2          catconv_high_trend     0.9095                   0.97298    0.34991\n",
      "no2          5-year effect          1.4292                   0.18936    0.85128\n",
      "===========  ==================  ==========  =======================  =========\n"
     ]
    }
   ],
   "source": [
    "formula = 'taub ~ high + catconv + catconv_high + tauCAT + tauCAT_high + catconv_trend + catconv_high_trend'\n",
    "stage2(results_7,formula,['spm','so2','no2'],'CAT',9,5,'table_8_mor')"
   ]
  },
  {
   "cell_type": "markdown",
   "id": "ef4ed023",
   "metadata": {},
   "source": [
    "### 1st Step Model"
   ]
  },
  {
   "cell_type": "markdown",
   "id": "29fd6f93",
   "metadata": {},
   "source": [
    "#### Air Pollution"
   ]
  },
  {
   "cell_type": "code",
   "execution_count": 56,
   "id": "af1aa145",
   "metadata": {},
   "outputs": [],
   "source": [
    "right_windows = 5 #This line indicates the left window we use for the placebo test\n",
    "results = {'params':{},'se':{}}\n",
    "for i in ['spm','so2','no2']:\n",
    "    df1 = df.copy()\n",
    "    df1['tempsc'] = np.where(df1['actionplan_sc'] == 1, df1['year'], np.nan)\n",
    "    df1['tempsc'] = df1.groupby('city')['tempsc'].transform('min') \n",
    "    df1['tempcat']= np.where(df1['catconverter'] == 1, df1['year'], np.nan)\n",
    "    df1['tempcat']= df1.groupby('city')['tempcat'].transform('min')\n",
    "    df1['neveradoptCAT'] = np.where(df1['tempcat'].isna(),1,0)\n",
    "    df1['temp']     = df1.groupby('city')['year'].transform('min') \n",
    "    df1['tausc'] = np.where((df1['tempsc'] > df1['temp']) & (df1[f'e_{i}_mean'].notna()), df1['year'] - df1['tempsc'], np.nan)\n",
    "    df1['taucat']= np.where((df1['tempcat']> df1['temp']) & (df1[f'e_{i}_mean'].notna()), df1['year'] - df1['tempcat'], np.nan)\n",
    "############################################################################################################\n",
    "#robustness check                                                                                          #\n",
    "#    df1['temp_tau'] = df1['taucat'].where((df1['actionplan_sc'] == 0) &(df1[f'taucat']==0))               #\n",
    "#    df1['tau_shifted'] = df1.groupby('city')['temp_tau'].shift(right_windows+1)                           #\n",
    "#    df1['taucat'] = df1['taucat'] + right_windows+1                                                       #\n",
    "#    df1['tau_shifted'].fillna(df1['taucat'], inplace=True)                                                #\n",
    "#    df1['taucat'] = df1['tau_shifted'].copy()                                                             #\n",
    "############################################################################################################    \n",
    "    df1['tempx'] = np.where((df1['catconverter'] == 1) & (df1[f'e_{i}_mean'].notna()), 1, np.nan) \n",
    "    df1['tempy'] = df1[df1['tempcat'].notna()].groupby('city')['tempx'].transform('min')\n",
    "    df1['neveradoptCAT'] = np.where((df1['tempy'].notna()) & (df1['tempcat'].isna()), 1, df1['neveradoptCAT'])\n",
    "    df1['taucat'] = np.where((df1['tempy'].notna()) & (df1['tempcat'].isna()), np.nan, df1['taucat'])\n",
    "    \n",
    "    df1['temp1'] = df1.groupby('city')['tausc'].transform('max')\n",
    "    df1['temp2'] = df1.groupby('city')['tausc'].transform('min')\n",
    "    df1['temp3'] = df1.groupby('city')['taucat'].transform('max')\n",
    "    df1['temp4'] = df1.groupby('city')['taucat'].transform('min')\n",
    "    df1['cts'] = df1.groupby('city')[f'e_{i}_mean'].transform('count')\n",
    "    df1['useSC'] = (((df1['temp1'] >= 3) & (df1['temp2'] <= -3) & (df1['cts'] > 1))|(( df1['tempsc'].isna()) & (df1['cts'] > 1)))\n",
    "    df1['useCAT']= (((df1['temp3'] >= 3) & (df1['temp4'] <= -3) & (df1['cts'] > 1))|(( df1['tempcat'].isna()) & (df1['cts'] > 1)))\n",
    "    df1 = df1[(df1['useCAT'] != 0)&(df1['useSC'] != 0)]\n",
    "    D_sc_vars  = []\n",
    "    D_cat_vars = []\n",
    "    for t in np.arange(-7,0):\n",
    "        df1[f'taum{abs(t)}sc']  = (df1['tausc'] == t)\n",
    "        D_sc_vars += [f'taum{abs(t)}sc']\n",
    "    for t in np.arange(0,4):\n",
    "        df1[f'tau{t}sc']  = (df1['tausc'] == t)\n",
    "        D_sc_vars += [f'tau{t}sc']\n",
    "    for t in np.arange(-7,0): #Change the left number to -right_windows to perform a placebo test\n",
    "        df1[f'taum{abs(t)}'] = (df1['taucat'] == t)\n",
    "        D_cat_vars+= [f'taum{abs(t)}']\n",
    "    for t in np.arange(0,10): #Change the right number to right_windows+1 to perform a placebo test\n",
    "        df1[f'tau{t}cat'] = (df1['taucat'] == t)\n",
    "        D_cat_vars+= [f'tau{t}cat']\n",
    "    df1['tauSCL']  = np.where(df1[f'tausc'] < -7, 1, 0)\n",
    "    df1['tauSCR']  = np.where((df1[f'tausc'] > 3), 1, 0)\n",
    "    df1['tauCATL'] = np.where(df1[f'taucat'] < -7, 1, 0) #Change the first number to -right_windows to perform a placebo test\n",
    "    df1['tauCATR'] = np.where(df1[f'taucat'] > 9, 1, 0) #Change the first number to right_windows to perform a placebo test\n",
    "    D_sc_str  = ' + '.join(D_sc_vars)\n",
    "    D_cat_str = ' + '.join(D_cat_vars)\n",
    "    weights   = df1['pop_urban']\n",
    "    na_action = NAAction('drop')\n",
    "    formula   = f\"e_{i}_mean ~ {D_sc_str} + {D_cat_str}  + tauSCL + tauSCR + tauCATL + tauCATR + lit_urban + mean + C(city) + C(year)\"\n",
    "    y, X    = dmatrices(formula, data=df1, return_type='dataframe', NA_action = na_action)\n",
    "    weights = weights[X.index]\n",
    "    model   = sm.WLS(y, X, weights=weights)\n",
    "    result  = model.fit()    \n",
    "    results['params'][i]        = {'SC':{},'CAT':{}}\n",
    "    results['params'][i]['SC']  = [result.params[sigma + '[T.True]'] for sigma in D_sc_vars]\n",
    "    results['params'][i]['CAT'] = [result.params[sigma + '[T.True]'] for sigma in D_cat_vars]\n",
    "    results['se'][i]            = {'SC':{},'CAT':{}}\n",
    "    results['se'][i]['SC']      = [result.bse[sigma + '[T.True]'] for sigma in D_sc_vars]\n",
    "    results['se'][i]['CAT']     = [result.bse[sigma + '[T.True]'] for sigma in D_cat_vars]"
   ]
  },
  {
   "cell_type": "markdown",
   "id": "c67681c7",
   "metadata": {},
   "source": [
    "#### Water Quality"
   ]
  },
  {
   "cell_type": "code",
   "execution_count": 57,
   "id": "f1052917",
   "metadata": {},
   "outputs": [],
   "source": [
    "df2=df0.copy()\n",
    "results_2 = {'params':{},'se':{}}\n",
    "df2['city_river'] = pd.factorize(df2['city'] + df2['river'])[0]\n",
    "for i in ['bod','do','lnfcoli']:\n",
    "    for j in ['yap1', 'gap1', 'gap2', 'nrcp', 'dap', 'gomtiap1']:\n",
    "        df2[f'{j}_city'] = df2.groupby(['city_river'])[j].transform('max')\n",
    "    df2['temp2'] = np.where(df2['nrcp_city'] == 1, 1995, np.nan)\n",
    "    df2['temp2'] = np.where((df2['yap1_city'] == 1) | (df2['gap2_city'] == 1) | (df2['dap_city'] == 1) | (df2['gomtiap1_city'] == 1), 1993,df2['temp2'])\n",
    "    df2['temp2'] = np.where(df2['gap1_city']  == 1, 1985,df2['temp2'])\n",
    "    df2['temp3'] = df2.groupby('city_river')['year'].transform('min')\n",
    "    df2['tau']   = np.where((df2['temp2'] > df2['temp3']) & (df2[i].notna()), df2['year'] - df2['temp2'], np.nan)\n",
    "    df2['neveradopt'] = np.where(df2['temp2'].isna(), 1, 0)\n",
    "    df2['tempx'] = np.where((df2[['yap1', 'gap1', 'gap2', 'nrcp', 'dap', 'gomtiap1']].sum(axis=1) > 0) & df2[i].notna(), 1, np.nan)\n",
    "    df2['tempy'] = df2.groupby('city_river')['tempx'].transform('min')\n",
    "    df2['temp4'] = df2.groupby('city_river')['tau'].transform('max')\n",
    "    df2['temp5'] = df2.groupby('city_river')['tau'].transform('min')\n",
    "\n",
    "    df2['cts'] = df2.groupby(['city'])[i].transform('count')\n",
    "    df2['use'] = np.where(((df2['temp4'] >= 3) & (df2['temp5'] <= -3)) | ((df2['neveradopt'] == 1) & (df2['cts'] > 1)), 1, 0)\n",
    "    df2 = df2[df2['use'] == 1]\n",
    "    df2 = df2[df2[i].notnull()]\n",
    "    D_vars = []\n",
    "    for t in range(-7, 0):\n",
    "        df2[f'taum{abs(t)}'] = (df2['tau'] == t)\n",
    "        D_vars += [f'taum{abs(t)}']\n",
    "    for t in range(0, 11):\n",
    "        df2[f'tau{t}'] = (df2['tau'] == t)\n",
    "        D_vars += [f'tau{t}']\n",
    "    \n",
    "    df2['tauL']  = np.where(df2[f'tau'] < -7, 1, 0)\n",
    "    df2['tauR']  = np.where((df2[f'tau'] > 10) & (df2[f'tau'].notna()), 1, 0)\n",
    "    D_str  = ' + '.join(D_vars)\n",
    "    weights   = df2['pop_urban']\n",
    "    na_action = NAAction('drop')\n",
    "\n",
    "    formula   = f\"{i} ~ {D_str} + tauL + tauR + lit_urban + pce + C(city_river) + C(year)\"\n",
    "    y, X    = dmatrices(formula, data=df2, return_type='dataframe', NA_action = na_action)\n",
    "    weights = weights[X.index]\n",
    "    model   = sm.WLS(y, X, weights=weights)\n",
    "    result  = model.fit()\n",
    "    results_2['params'][i] = {'':{}}\n",
    "    results_2['se'][i] = {'':{}}\n",
    "    results_2['params'][i][''] = [result.params[sigma + '[T.True]'] for sigma in D_vars]\n",
    "    results_2['se'][i]['']     = [result.bse[sigma + '[T.True]'] for sigma in D_vars]  "
   ]
  },
  {
   "cell_type": "markdown",
   "id": "6ec41d1a",
   "metadata": {},
   "source": [
    "#### Assessing Robustness with a Structural Break Test"
   ]
  },
  {
   "cell_type": "code",
   "execution_count": 58,
   "id": "8a923fae",
   "metadata": {},
   "outputs": [],
   "source": [
    "res100 = {'pollutant':{}}\n",
    "for i in ['spm','so2','no2']:\n",
    "    maxF = -9999\n",
    "    taub = results['params'][i]['CAT']\n",
    "    tause= results['se'][i]['CAT']\n",
    "    tau = np.arange(-7,10)\n",
    "    df100 = pd.DataFrame({\"y\":taub,\"tau\":tau,'tause':tause})\n",
    "    df100.set_index('tau', inplace=True)\n",
    "    trim = 5  \n",
    "    lb = df100.index.min() + trim\n",
    "    ub = df100.index.max() - trim\n",
    "    T = df100.shape[0]\n",
    "    Q = np.zeros((T - 2*trim + 1, 3))\n",
    "    for tt, taus in enumerate(range(lb, ub + 1)):\n",
    "        df100['breakpoint'] = 0\n",
    "        df100.loc[df100.index >= taus, 'breakpoint'] = 1\n",
    "        df100['breaktrend'] = df100['breakpoint'] * df100.index\n",
    "        df100.loc[df100.index >= taus, 'breaktrend'] += 1\n",
    "        model = smf.wls('y ~ breakpoint + tau + breaktrend', df100, weights=list(1/np.array(df100['tause']))).fit()\n",
    "        F = model.f_test([[0, 1, 0,1]])      \n",
    "        maxF = max(F.fvalue,maxF)\n",
    "        if maxF == F.fvalue:\n",
    "            ftau = taus\n",
    "            minP = F.pvalue\n",
    "    res100['pollutant'][i] = {}       \n",
    "    res100['pollutant'][i]['tau'] = ftau\n",
    "    res100['pollutant'][i]['F']   = round(maxF,5)\n",
    "    res100['pollutant'][i]['p-value']   = round(minP,5)\n",
    "\n",
    "for i in ['bod','do','lnfcoli']:\n",
    "    maxF = -9999\n",
    "    taub = results_2['params'][i]['']\n",
    "    tause= results_2['se'][i]['']\n",
    "    tau = np.arange(-7,11)\n",
    "    df100 = pd.DataFrame({\"y\":taub,\"tau\":tau,'tause':tause})\n",
    "    df100.set_index('tau', inplace=True)\n",
    "    trim = 5  \n",
    "    lb = df100.index.min() + trim\n",
    "    ub = df100.index.max() - trim\n",
    "    T = df100.shape[0]\n",
    "    Q = np.zeros((T - 2*trim + 1, 3))\n",
    "    for tt, taus in enumerate(range(lb, ub + 1)):\n",
    "        df100['breakpoint'] = 0\n",
    "        df100.loc[df100.index >= taus, 'breakpoint'] = 1\n",
    "        df100['breaktrend'] = df100['breakpoint'] * df100.index\n",
    "        df100.loc[df100.index >= taus, 'breaktrend'] += 1\n",
    "        model = smf.wls('y ~ breakpoint + tau + breaktrend', df100, weights=list(1/np.array(df100['tause']))).fit()\n",
    "        F = model.f_test([[0, 1, 0,1]])\n",
    "        maxF = max(F.fvalue,maxF)\n",
    "        if maxF == F.fvalue:\n",
    "            ftau = taus\n",
    "            minP = F.pvalue\n",
    "    res100['pollutant'][i] = {} \n",
    "    res100['pollutant'][i]['tau'] = ftau\n",
    "    res100['pollutant'][i]['F']   = round(maxF,5)\n",
    "    res100['pollutant'][i]['p-value']   = round(minP,5)"
   ]
  },
  {
   "cell_type": "code",
   "execution_count": 59,
   "id": "32bb734d",
   "metadata": {},
   "outputs": [],
   "source": [
    "lst = [{'Pollutant': key, 'т': value['tau'], 'F': value['F'], 'p-value': value['p-value']} for key, value in res100['pollutant'].items()]\n",
    "\n",
    "df1000 = pd.DataFrame(lst)"
   ]
  },
  {
   "cell_type": "markdown",
   "id": "6c3b784c",
   "metadata": {},
   "source": [
    "#### Infant Mortality"
   ]
  },
  {
   "cell_type": "code",
   "execution_count": 60,
   "id": "ec2ab8d9",
   "metadata": {},
   "outputs": [],
   "source": [
    "results_4 = {'params':{},'se':{}}\n",
    "df1                = df3.copy()\n",
    "df1['temp']        = df1.groupby('city')['c_IM'].transform('max')\n",
    "df1                = df1.loc[df1['temp'].notna()]\n",
    "df1['year_start']  = df1.groupby('city')['year'].transform('min')\n",
    "df1['year_end']     = df1.groupby('city')['year'].transform('max')\n",
    "\n",
    "df1['tau']     = np.where((df1['catyear']>df1['year_start']) & (df1['catyear'].notna()), df1['year'] - df1['catyear'], np.nan)\n",
    "df1['neveradoptCAT'] = np.where((df1['catyear'].isna())|(df1['year_end']<df1['catyear']),1,0)\n",
    "#df1['tempx']        = np.where((df1['year']>=df1['catyear']) & (df1['catyear'].notna()) & (df1['c_IM'].notna()),1,np.nan)\n",
    "#df['tempy'] = np.nan\n",
    "#df1.loc[df1['catyear'].notna(),'tempy'] = df1.loc[df1['catyear'].notna()].groupby('city')['tempx'].transform('min')\n",
    "#df1['neveradoptCAT']= np.where((df1['tempy'].isna()) & (df1['catyear'].notna()),1,df1['neveradoptCAT'])\n",
    "#df1['tau_cat']= np.where((df1['tempy'].isna()) & (df1['catyear'].notna()),np.nan,df1['tau_cat'])\n",
    "#df1['tau_cat'] = np.where((df1['catyear'].isna()) & (df1['c_IM'].notna()),0,df1['tau_cat'])\n",
    "\n",
    "df1['temp1']       = df1.groupby('city')['tau'].transform('max')\n",
    "df1['temp2']       = df1.groupby('city')['tau'].transform('min')\n",
    "df1['cts']         = df1.groupby('city')['c_IM'].transform('count')\n",
    "#df1['temp3']       = ((df1['tau_cat'] >= 3) & ((df1['tau_cat'].notna())))\n",
    "#df1['temp4']       = ((df1['tau_cat'] <= 3) & ((df1['tau_cat'].notna())))\n",
    "#df1['mtemp3']      = df1.groupby('city')['temp3'].transform('max')\n",
    "#df1['mtemp4']      = df1.groupby('city')['temp4'].transform('max')\n",
    "\n",
    "#df1['neveradoptCAT'] = np.where((df1['tempy'].notna()) & (df1['catyear'].isna()), 1, df1['neveradoptCAT'])\n",
    "#print(sum(df1['neveradoptCAT']==0))\n",
    "\n",
    "#df1['tau_cat'] = np.where((df1['tempy'].notna()) & (df1['catyear'].isna()), np.nan, df1['tau_cat'])\n",
    "#print(sum(df1['neveradoptCAT']==0))\n",
    "\n",
    "df1['useCAT'] = ((df1['temp1'] >= 3) & (df1['temp2'] <= -3) & (df1['cts'] > 1)) | ((df1['neveradoptCAT'] == 1) & (df1['cts'] > 1))\n",
    "#print(sum(df1['neveradoptCAT']==0))\n",
    "\n",
    "df1 = df1[df1['useCAT'] != 0]\n",
    "\n",
    "df1 = df1[df1['c_IM'].notna()]\n",
    "D_cat_vars = []\n",
    "for t in np.arange(-10,0):\n",
    "    df1[f'D_neg{abs(t)}_cat'] = (df1['tau'] == t)\n",
    "    D_cat_vars = D_cat_vars + [f'D_neg{abs(t)}_cat']\n",
    "for t in np.arange(0,6):\n",
    "    df1[f'D_{t}_cat'] = (df1['tau'] == t)\n",
    "    D_cat_vars+= [f'D_{t}_cat']\n",
    "df1['tauCATL'] = np.where(df1['tau'] < -10, 1, 0)\n",
    "df1['tauCATR'] = np.where(df1['tau'] > 5, 1, 0)\n",
    "\n",
    "D_cat_str = ' + '.join(D_cat_vars)\n",
    "\n",
    "weights   = df1['c_birth']\n",
    "na_action = NAAction('drop')\n",
    "formula   = f\"c_IM ~ {D_cat_str} + tauCATL + tauCATR + lit_urban + mean + C(city) + C(year)\"\n",
    "\n",
    "y, X    = dmatrices(formula, data=df1, return_type='dataframe', NA_action = na_action)\n",
    "weights = weights[X.index]\n",
    "model   = sm.WLS(y, X, weights=weights)\n",
    "result  = model.fit()\n",
    "results_4['params']['IM']        = {'SC':{},'CAT':{}}\n",
    "results_4['params']['IM']['CAT'] = [result.params[sigma + '[T.True]'] for sigma in D_cat_vars]\n",
    "results_4['se']['IM']            = {'SC':{},'CAT':{}}\n",
    "results_4['se']['IM']['CAT']     = [result.bse[sigma + '[T.True]'] for sigma in D_cat_vars]"
   ]
  },
  {
   "cell_type": "markdown",
   "id": "6735a2e0",
   "metadata": {},
   "source": [
    "#### Why Were the Air Pollution Policies More Effective than the Water Pollution Policies?"
   ]
  },
  {
   "cell_type": "code",
   "execution_count": 61,
   "id": "7e88dffb",
   "metadata": {},
   "outputs": [],
   "source": [
    "results_5 = {'params':{},'se':{}}\n",
    "\n",
    "for i in ['spm','so2','no2']:\n",
    "    df1 = df.copy()\n",
    "    df1['policyadoption'] = df1.groupby(['state', 'city'])['catconverter'].transform('max')\n",
    "    df1['urban_lit_percapita'] = df1['lit_urban'] / df1['pop_urban']\n",
    "    df1['lit'] = np.where((df1['year'] == 1987) & (df1['policyadoption'] == 1),df1['urban_lit_percapita'],np.nan)\n",
    "    df1.sort_values(['city', 'lit'], inplace=True)\n",
    "    df1['lit'] = df1.groupby('city')['lit'].ffill()\n",
    "    #Find the median expenditure\n",
    "    median     = df1['lit'].median()\n",
    "    #find the observation with expenditure above the median \n",
    "    df1['lit_upper'] = np.where((df1['lit'] > df1['lit'].median()) & (df1['policyadoption']==1), 1, np.nan) \n",
    "    df1['lit_upper'] = np.where((df1['lit'] <= median) & (df1['policyadoption']==1), 0, df1['lit_upper']) \n",
    "    df1 = df1.sort_values(by=['state', 'city', 'year'])\n",
    "    df1['start_sc'] = np.where(df1['actionplan_sc'] == 1, df1['year'], np.nan)\n",
    "    df1['start_sc'] = df1.groupby('city')['start_sc'].transform('min') \n",
    "    df1['start_cat']= np.where(df1['catconverter'] == 1, df1['year'], np.nan)\n",
    "    df1['start_cat']= df1.groupby('city')['start_cat'].transform('min')\n",
    "    df1['temp']     = df1.groupby('city')['year'].transform('min') \n",
    "    df1[f'tau_{i}_sc'] = np.where((df1['start_sc'] > df1['temp']) & (df1[f'e_{i}_mean'].notna()), df1['year'] - df1['start_sc'], np.nan)\n",
    "    df1[f'tau_{i}_cat']= np.where((df1['start_cat']> df1['temp']) & (df1[f'e_{i}_mean'].notna()), df1['year'] - df1['start_cat'], np.nan)\n",
    "\n",
    "    df1['temp1'] = df1.groupby('city')[f'tau_{i}_sc'].transform('max')\n",
    "    df1['temp2'] = df1.groupby('city')[f'tau_{i}_sc'].transform('min')\n",
    "    df1['temp3'] = df1.groupby('city')[f'tau_{i}_cat'].transform('max')\n",
    "    df1['temp4'] = df1.groupby('city')[f'tau_{i}_cat'].transform('min')\n",
    "    df1['cts'] = df1.groupby('city')[f'e_{i}_mean'].transform('count')\n",
    "    useSC = (((df1['temp1'] >= 3) & (df1['temp2'] <= -3) & (df1['cts'] > 1))|(( df1['start_sc'].isna()) & (df1['cts'] > 1)))\n",
    "    useCAT= (((df1['temp3'] >= 3) & (df1['temp4'] <= -3) & (df1['cts'] > 1))|(( df1['start_cat'].isna()) & (df1['cts'] > 1)))\n",
    "\n",
    "    df1   = df1.loc[useSC & useCAT]\n",
    "    df1   = df1.loc[df1[f'e_{i}_mean'].notna()]    \n",
    "\n",
    "    D_sc_vars  = []\n",
    "    D_cat_vars = []\n",
    "    for t in np.arange(-7,0):\n",
    "        df1[f'D_neg{abs(t)}_{i}_sc_upper']  = ((df1[f'tau_{i}_sc'] == t) & (df1['lit_upper'] == 1))\n",
    "        df1[f'D_neg{abs(t)}_{i}_sc_lower']  = ((df1[f'tau_{i}_sc'] == t) & (df1['lit_upper'] == 0))\n",
    "        D_sc_vars += [f'D_neg{abs(t)}_{i}_sc_upper'] + [f'D_neg{abs(t)}_{i}_sc_lower']\n",
    "    for t in np.arange(0,4):\n",
    "        df1[f'D_{t}_{i}_sc_upper']  = ((df1[f'tau_{i}_sc'] == t) & (df1['lit_upper'] == 1))\n",
    "        df1[f'D_{t}_{i}_sc_lower']  = ((df1[f'tau_{i}_sc'] == t) & (df1['lit_upper'] == 0))\n",
    "        D_sc_vars += [f'D_{t}_{i}_sc_upper'] + [f'D_{t}_{i}_sc_lower']\n",
    "    for t in np.arange(-7,0):\n",
    "        df1[f'D_neg{abs(t)}_{i}_cat_upper'] = ((df1[f'tau_{i}_cat'] == t) & (df1['lit_upper'] == 1))\n",
    "        df1[f'D_neg{abs(t)}_{i}_cat_lower'] = ((df1[f'tau_{i}_cat'] == t) & (df1['lit_upper'] == 0))\n",
    "        D_cat_vars+= [f'D_neg{abs(t)}_{i}_cat_upper'] + [f'D_neg{abs(t)}_{i}_cat_lower']\n",
    "    for t in np.arange(0,10):\n",
    "        df1[f'D_{t}_{i}_cat_upper'] = ((df1[f'tau_{i}_cat'] == t) & (df1['lit_upper'] == 1))\n",
    "        df1[f'D_{t}_{i}_cat_lower'] = ((df1[f'tau_{i}_cat'] == t) & (df1['lit_upper'] == 0))\n",
    "        D_cat_vars+= [f'D_{t}_{i}_cat_upper'] + [f'D_{t}_{i}_cat_lower']\n",
    "    df1['tauSCL_upper']  = np.where((df1[f'tau_{i}_sc'] < -7) & (df1['lit_upper'] == 1), 1, 0)\n",
    "    df1['tauSCL_lower']  = np.where((df1[f'tau_{i}_sc'] < -7) & (df1['lit_upper'] == 0), 1, 0)\n",
    "    df1['tauSCR_upper']  = np.where((df1[f'tau_{i}_sc'] > 3)  & (df1['lit_upper'] == 1), 1, 0)\n",
    "    df1['tauSCR_lower']  = np.where((df1[f'tau_{i}_sc'] > 3)  & (df1['lit_upper'] == 0), 1, 0)\n",
    "    df1['tauCATL_upper'] = np.where((df1[f'tau_{i}_cat'] < -7)& (df1['lit_upper'] == 1), 1, 0)\n",
    "    df1['tauCATL_lower'] = np.where((df1[f'tau_{i}_cat'] < -7)& (df1['lit_upper'] == 0), 1, 0)\n",
    "    df1['tauCATR_upper'] = np.where((df1[f'tau_{i}_cat'] > 9) & (df1['lit_upper'] == 1), 1, 0)\n",
    "    df1['tauCATR_lower'] = np.where((df1[f'tau_{i}_cat'] > 9) & (df1['lit_upper'] == 0), 1, 0)\n",
    "    D_sc_str  = ' + '.join(D_sc_vars)\n",
    "    D_cat_str = ' + '.join(D_cat_vars)\n",
    "    weights   = df1['pop_urban']\n",
    "    na_action = NAAction('drop')\n",
    "    formula   = f\"e_{i}_mean ~ {D_sc_str} + {D_cat_str} + tauSCL_upper + tauSCL_lower + tauSCR_upper + tauSCR_lower + tauCATL_upper + tauCATL_lower + tauCATR_upper + tauCATR_lower + lit_urban + mean + C(city) + C(year)\"\n",
    "\n",
    "    y, X = dmatrices(formula, data=df1, return_type='dataframe', NA_action = na_action)\n",
    " #   elements_to_remove = [f'D_neg7_{i}_sc_lower', f'D_3_{i}_sc_upper']\n",
    " #   for element in elements_to_remove:\n",
    " #       D_sc_vars.remove(element)\n",
    " #   X = X.drop(labels=['C(year)[T.2007.0]',f'D_neg7_{i}_sc_lower[T.True]',f'D_3_{i}_sc_upper[T.True]'], axis=1)\n",
    "    weights = weights[X.index]\n",
    "    model   = sm.WLS(y, X, weights=weights)\n",
    "    result  = model.fit()\n",
    "    results_5['params'][i]        = {'sc':{},'cat':{}}\n",
    "    results_5['params'][i]['SC']  = [result.params[sigma + '[T.True]'] for sigma in D_sc_vars]\n",
    "    results_5['params'][i]['CAT'] = [result.params[sigma + '[T.True]'] for sigma in D_cat_vars]\n",
    "    results_5['se'][i]            = {'sc':{},'cat':{}}\n",
    "    results_5['se'][i]['SC']      = [result.bse[sigma + '[T.True]'] for sigma in D_sc_vars]\n",
    "    results_5['se'][i]['CAT']     = [result.bse[sigma + '[T.True]'] for sigma in D_cat_vars]\n",
    "\n"
   ]
  },
  {
   "cell_type": "code",
   "execution_count": 62,
   "id": "9ff0b00f",
   "metadata": {},
   "outputs": [],
   "source": [
    "results_6 = {'params':{},'se':{}}\n",
    "\n",
    "for i in ['spm','so2','no2']:\n",
    "    df1 = df.copy()\n",
    "    df1['policyadoption']     = df1.groupby(['city'])['catconverter'].transform('max')\n",
    "    df1['airpoll_references'] = df1[df1['policyadoption'] == 1].groupby('city')['air_references'].transform('mean')\n",
    "    median     = df1['airpoll_references'].median()\n",
    "    df1['ref_upper'] = np.where((df1['airpoll_references'] > median) & (df1['policyadoption']==1), 1, np.nan) \n",
    "    df1['ref_upper'] = np.where((df1['airpoll_references'] <= median) & (df1['policyadoption']==1), 0, df1['ref_upper']) \n",
    "    df1 = df1.sort_values(by=['state', 'city', 'year'])\n",
    "    df1['start_sc'] = np.where((df1['actionplan_sc'] == 1) & (df1[f'e_{i}_mean'].notna()), df1['year'], np.nan)\n",
    "    df1['start_sc'] = df1.groupby('city')['start_sc'].transform('min') \n",
    "    df1['start_cat']= np.where(df1['catconverter'] == 1, df1['year'], np.nan)\n",
    "    df1['start_cat']= df1.groupby('city')['start_cat'].transform('min')\n",
    "    df1['temp']     = df1.groupby('city')['year'].transform('min') \n",
    "    df1[f'tau_{i}_sc'] = np.where((df1['start_sc'] > df1['temp']) & (df1[f'e_{i}_mean'].notna()), df1['year'] - df1['start_sc'], np.nan)\n",
    "    df1[f'tau_{i}_cat']= np.where((df1['start_cat']> df1['temp']) & (df1[f'e_{i}_mean'].notna()), df1['year'] - df1['start_cat'], np.nan)\n",
    "\n",
    "    df1['temp1'] = df1.groupby('city')[f'tau_{i}_sc'].transform('max')\n",
    "    df1['temp2'] = df1.groupby('city')[f'tau_{i}_sc'].transform('min')\n",
    "    df1['temp3'] = df1.groupby('city')[f'tau_{i}_cat'].transform('max')\n",
    "    df1['temp4'] = df1.groupby('city')[f'tau_{i}_cat'].transform('min')\n",
    "    dftmp = df1.copy()\n",
    "    df1['cts'] = df1.groupby('city')[f'e_{i}_mean'].transform('count')\n",
    "    useSC = (((df1['temp1'] >= 3) & (df1['temp2'] <= -3) & (df1['cts'] > 1))|(( df1['start_sc'].isna()) & (df1['cts'] > 1)))\n",
    "    useCAT= (((df1['temp3'] >= 3) & (df1['temp4'] <= -3) & (df1['cts'] > 1))|(( df1['start_cat'].isna()) & (df1['cts'] > 1)))\n",
    "\n",
    "    df1   = dftmp.loc[useSC & useCAT]\n",
    "    df1   = df1.loc[df1[f'e_{i}_mean'].notna()]    \n",
    "\n",
    "    D_sc_vars  = []\n",
    "    D_cat_vars = []\n",
    "    for t in np.arange(-7,0):\n",
    "        df1[f'D_neg{abs(t)}_{i}_sc_upper']  = ((df1[f'tau_{i}_sc'] == t) & (df1['ref_upper'] == 1))\n",
    "        df1[f'D_neg{abs(t)}_{i}_sc_lower']  = ((df1[f'tau_{i}_sc'] == t) & (df1['ref_upper'] == 0))\n",
    "        D_sc_vars += [f'D_neg{abs(t)}_{i}_sc_upper'] + [f'D_neg{abs(t)}_{i}_sc_lower']\n",
    "    for t in np.arange(0,4):\n",
    "        df1[f'D_{t}_{i}_sc_upper']  = ((df1[f'tau_{i}_sc'] == t) & (df1['ref_upper'] == 1))\n",
    "        df1[f'D_{t}_{i}_sc_lower']  = ((df1[f'tau_{i}_sc'] == t) & (df1['ref_upper'] == 0))\n",
    "        D_sc_vars += [f'D_{t}_{i}_sc_upper'] + [f'D_{t}_{i}_sc_lower']\n",
    "    for t in np.arange(-7,0):\n",
    "        df1[f'D_neg{abs(t)}_{i}_cat_upper'] = ((df1[f'tau_{i}_cat'] == t) & (df1['ref_upper'] == 1))\n",
    "        df1[f'D_neg{abs(t)}_{i}_cat_lower'] = ((df1[f'tau_{i}_cat'] == t) & (df1['ref_upper'] == 0))\n",
    "        D_cat_vars+= [f'D_neg{abs(t)}_{i}_cat_upper'] + [f'D_neg{abs(t)}_{i}_cat_lower']\n",
    "    for t in np.arange(0,10):\n",
    "        df1[f'D_{t}_{i}_cat_upper'] = ((df1[f'tau_{i}_cat'] == t) & (df1['ref_upper'] == 1))\n",
    "        df1[f'D_{t}_{i}_cat_lower'] = ((df1[f'tau_{i}_cat'] == t) & (df1['ref_upper'] == 0))\n",
    "        D_cat_vars+= [f'D_{t}_{i}_cat_upper'] + [f'D_{t}_{i}_cat_lower']\n",
    "    df1['tauSCL_upper']  = np.where((df1[f'tau_{i}_sc'] < -7) & (df1['ref_upper'] == 1), 1, 0)\n",
    "    df1['tauSCL_lower']  = np.where((df1[f'tau_{i}_sc'] < -7) & (df1['ref_upper'] == 0), 1, 0)\n",
    "    df1['tauSCR_upper']  = np.where((df1[f'tau_{i}_sc'] > 3)  & (df1['ref_upper'] == 1), 1, 0)\n",
    "    df1['tauSCR_lower']  = np.where((df1[f'tau_{i}_sc'] > 3)  & (df1['ref_upper'] == 0), 1, 0)\n",
    "    df1['tauCATL_upper'] = np.where((df1[f'tau_{i}_cat'] < -7)& (df1['ref_upper'] == 1), 1, 0)\n",
    "    df1['tauCATL_lower'] = np.where((df1[f'tau_{i}_cat'] < -7)& (df1['ref_upper'] == 0), 1, 0)\n",
    "    df1['tauCATR_upper'] = np.where((df1[f'tau_{i}_cat'] > 9) & (df1['ref_upper'] == 1), 1, 0)\n",
    "    df1['tauCATR_lower'] = np.where((df1[f'tau_{i}_cat'] > 9) & (df1['ref_upper'] == 0), 1, 0)\n",
    "    D_sc_str  = ' + '.join(D_sc_vars)\n",
    "    D_cat_str = ' + '.join(D_cat_vars)\n",
    "    weights   = df1['pop_urban']\n",
    "    na_action = NAAction('drop')\n",
    "    formula   = f\"e_{i}_mean ~ {D_sc_str} + {D_cat_str} + tauSCL_upper + tauSCL_lower + tauSCR_upper + tauSCR_lower + tauCATL_upper + tauCATL_lower + tauCATR_upper + tauCATR_lower + lit_urban + mean + C(city) + C(year)\"\n",
    "\n",
    "    y, X = dmatrices(formula, data=df1, return_type='dataframe', NA_action = na_action)\n",
    "    elements_to_remove = [f'D_neg7_{i}_sc_lower', f'D_3_{i}_sc_upper']\n",
    "    for element in elements_to_remove:\n",
    "        D_sc_vars.remove(element)\n",
    "  #  X = X.drop(labels=['C(year)[T.2007.0]',f'D_neg7_{i}_sc_lower[T.True]',f'D_3_{i}_sc_upper[T.True]'], axis=1)\n",
    "    weights = weights[X.index]\n",
    "    model   = sm.WLS(y, X, weights=weights)\n",
    "    result  = model.fit()\n",
    "    results_6['params'][i]        = {'SC':{},'SC':{}}\n",
    "    results_6['params'][i]['SC']  = [result.params[sigma + '[T.True]'] for sigma in D_sc_vars]\n",
    "    results_6['params'][i]['CAT'] = [result.params[sigma + '[T.True]'] for sigma in D_cat_vars]\n",
    "    results_6['se'][i]            = {'SC':{},'CAT':{}}\n",
    "    results_6['se'][i]['SC']      = [result.bse[sigma + '[T.True]'] for sigma in D_sc_vars]\n",
    "    results_6['se'][i]['CAT']     = [result.bse[sigma + '[T.True]'] for sigma in D_cat_vars]\n",
    "\n"
   ]
  },
  {
   "cell_type": "code",
   "execution_count": 63,
   "id": "b515aabe",
   "metadata": {},
   "outputs": [],
   "source": [
    "results_7 = {'params':{},'se':{}}\n",
    "\n",
    "for i in ['spm','so2','no2']:\n",
    "    df1 = df.copy()\n",
    "    df1['policyadoption'] = df1.groupby(['city'])['catconverter'].transform('max')\n",
    "    df1['exp'] = np.where((df1['year'] == 1987) & (df1['policyadoption'] == 1),df1['mean'],np.nan)\n",
    "    df1.sort_values(['city', 'exp'], inplace=True)\n",
    "    df1['exp'] = df1.groupby('city')['exp'].ffill()\n",
    "    median     = df1['exp'].median()\n",
    "    df1['exp_upper'] = np.where((df1['exp'] > median) & (df1['policyadoption']==1), 1, np.nan) \n",
    "    df1['exp_upper'] = np.where((df1['exp'] <= median) & (df1['policyadoption']==1), 0, df1['exp_upper']) \n",
    "    df1 = df1.sort_values(by=['state', 'city', 'year'])\n",
    "    df1['start_sc'] = np.where(df1['actionplan_sc'] == 1, df1['year'], np.nan)\n",
    "    df1['start_sc'] = df1.groupby('city')['start_sc'].transform('min') \n",
    "    df1['start_cat']= np.where(df1['catconverter'] == 1, df1['year'], np.nan)\n",
    "    df1['start_cat']= df1.groupby('city')['start_cat'].transform('min')\n",
    "    df1['temp']     = df1.groupby('city')['year'].transform('min') \n",
    "    df1[f'tau_{i}_sc'] = np.where((df1['start_sc'] > df1['temp']) & (df1[f'e_{i}_mean'].notna()), df1['year'] - df1['start_sc'], np.nan)\n",
    "    df1[f'tau_{i}_cat']= np.where((df1['start_cat']> df1['temp']) & (df1[f'e_{i}_mean'].notna()), df1['year'] - df1['start_cat'], np.nan)\n",
    "\n",
    "    df1['temp1'] = df1.groupby('city')[f'tau_{i}_sc'].transform('max')\n",
    "    df1['temp2'] = df1.groupby('city')[f'tau_{i}_sc'].transform('min')\n",
    "    df1['temp3'] = df1.groupby('city')[f'tau_{i}_cat'].transform('max')\n",
    "    df1['temp4'] = df1.groupby('city')[f'tau_{i}_cat'].transform('min')\n",
    "    df1['cts'] = df1.groupby('city')[f'e_{i}_mean'].transform('count')\n",
    "    useSC = (((df1['temp1'] >= 3) & (df1['temp2'] <= -3) & (df1['cts'] > 1))|(( df1['start_sc'].isna()) & (df1['cts'] > 1)))\n",
    "    useCAT= (((df1['temp3'] >= 3) & (df1['temp4'] <= -3) & (df1['cts'] > 1))|(( df1['start_cat'].isna()) & (df1['cts'] > 1)))\n",
    "\n",
    "    df1   = df1.loc[useSC & useCAT]\n",
    "    df1   = df1.loc[df1[f'e_{i}_mean'].notna()]    \n",
    "\n",
    "    D_sc_vars  = []\n",
    "    D_cat_vars = []\n",
    "    for t in np.arange(-7,0):\n",
    "        df1[f'D_neg{abs(t)}_{i}_sc_upper']  = ((df1[f'tau_{i}_sc'] == t) & (df1['exp_upper'] == 1))\n",
    "        df1[f'D_neg{abs(t)}_{i}_sc_lower']  = ((df1[f'tau_{i}_sc'] == t) & (df1['exp_upper'] == 0))\n",
    "        D_sc_vars += [f'D_neg{abs(t)}_{i}_sc_upper'] + [f'D_neg{abs(t)}_{i}_sc_lower']\n",
    "    for t in np.arange(0,4):\n",
    "        df1[f'D_{t}_{i}_sc_upper']  = ((df1[f'tau_{i}_sc'] == t) & (df1['exp_upper'] == 1))\n",
    "        df1[f'D_{t}_{i}_sc_lower']  = ((df1[f'tau_{i}_sc'] == t) & (df1['exp_upper'] == 0))\n",
    "        D_sc_vars += [f'D_{t}_{i}_sc_upper'] + [f'D_{t}_{i}_sc_lower']\n",
    "    for t in np.arange(-7,0):\n",
    "        df1[f'D_neg{abs(t)}_{i}_cat_upper'] = ((df1[f'tau_{i}_cat'] == t) & (df1['exp_upper'] == 1))\n",
    "        df1[f'D_neg{abs(t)}_{i}_cat_lower'] = ((df1[f'tau_{i}_cat'] == t) & (df1['exp_upper'] == 0))\n",
    "        D_cat_vars+= [f'D_neg{abs(t)}_{i}_cat_upper'] + [f'D_neg{abs(t)}_{i}_cat_lower']\n",
    "    for t in np.arange(0,10):\n",
    "        df1[f'D_{t}_{i}_cat_upper'] = ((df1[f'tau_{i}_cat'] == t) & (df1['exp_upper'] == 1))\n",
    "        df1[f'D_{t}_{i}_cat_lower'] = ((df1[f'tau_{i}_cat'] == t) & (df1['exp_upper'] == 0))\n",
    "        D_cat_vars+= [f'D_{t}_{i}_cat_upper'] + [f'D_{t}_{i}_cat_lower']\n",
    "    df1['tauSCL_upper']  = np.where((df1[f'tau_{i}_sc'] < -7) & (df1['exp_upper'] == 1), 1, 0)\n",
    "    df1['tauSCL_lower']  = np.where((df1[f'tau_{i}_sc'] < -7) & (df1['exp_upper'] == 0), 1, 0)\n",
    "    df1['tauSCR_upper']  = np.where((df1[f'tau_{i}_sc'] > 3)  & (df1['exp_upper'] == 1), 1, 0)\n",
    "    df1['tauSCR_lower']  = np.where((df1[f'tau_{i}_sc'] > 3)  & (df1['exp_upper'] == 0), 1, 0)\n",
    "    df1['tauCATL_upper'] = np.where((df1[f'tau_{i}_cat'] < -7)& (df1['exp_upper'] == 1), 1, 0)\n",
    "    df1['tauCATL_lower'] = np.where((df1[f'tau_{i}_cat'] < -7)& (df1['exp_upper'] == 0), 1, 0)\n",
    "    df1['tauCATR_upper'] = np.where((df1[f'tau_{i}_cat'] > 9) & (df1['exp_upper'] == 1), 1, 0)\n",
    "    df1['tauCATR_lower'] = np.where((df1[f'tau_{i}_cat'] > 9) & (df1['exp_upper'] == 0), 1, 0)\n",
    "    D_sc_str  = ' + '.join(D_sc_vars)\n",
    "    D_cat_str = ' + '.join(D_cat_vars)\n",
    "    weights   = df1['pop_urban']\n",
    "    na_action = NAAction('drop')\n",
    "    formula   = f\"e_{i}_mean ~ {D_sc_str} + {D_cat_str} + tauSCL_upper + tauSCL_lower + tauSCR_upper + tauSCR_lower + tauCATL_upper + tauCATL_lower + tauCATR_upper + tauCATR_lower + lit_urban + mean + C(city) + C(year)\"\n",
    "\n",
    "    y, X = dmatrices(formula, data=df1, return_type='dataframe', NA_action = na_action)\n",
    " #   elements_to_remove = [f'D_neg7_{i}_sc_lower', f'D_3_{i}_sc_upper']\n",
    " #   for element in elements_to_remove:\n",
    " #       D_sc_vars.remove(element)\n",
    " #   X = X.drop(labels=['C(year)[T.2007.0]',f'D_neg7_{i}_sc_lower[T.True]',f'D_3_{i}_sc_upper[T.True]'], axis=1)\n",
    "    weights = weights[X.index]\n",
    "    model   = sm.WLS(y, X, weights=weights)\n",
    "    result  = model.fit()\n",
    "    results_7['params'][i]        = {'sc':{},'cat':{}}\n",
    "    results_7['params'][i]['SC']  = [result.params[sigma + '[T.True]'] for sigma in D_sc_vars]\n",
    "    results_7['params'][i]['CAT'] = [result.params[sigma + '[T.True]'] for sigma in D_cat_vars]\n",
    "    results_7['se'][i]            = {'sc':{},'cat':{}}\n",
    "    results_7['se'][i]['SC']      = [result.bse[sigma + '[T.True]'] for sigma in D_sc_vars]\n",
    "    results_7['se'][i]['CAT']     = [result.bse[sigma + '[T.True]'] for sigma in D_cat_vars]\n"
   ]
  },
  {
   "cell_type": "code",
   "execution_count": null,
   "id": "d9587b0e",
   "metadata": {},
   "outputs": [],
   "source": []
  }
 ],
 "metadata": {
  "kernelspec": {
   "display_name": "Python 3 (ipykernel)",
   "language": "python",
   "name": "python3"
  },
  "language_info": {
   "codemirror_mode": {
    "name": "ipython",
    "version": 3
   },
   "file_extension": ".py",
   "mimetype": "text/x-python",
   "name": "python",
   "nbconvert_exporter": "python",
   "pygments_lexer": "ipython3",
   "version": "3.9.13"
  }
 },
 "nbformat": 4,
 "nbformat_minor": 5
}
